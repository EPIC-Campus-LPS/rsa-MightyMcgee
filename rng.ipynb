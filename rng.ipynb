{
 "cells": [
  {
   "cell_type": "code",
   "execution_count": 24,
   "metadata": {},
   "outputs": [
    {
     "name": "stdout",
     "output_type": "stream",
     "text": [
      "154498\n"
     ]
    },
    {
     "name": "stderr",
     "output_type": "stream",
     "text": [
      "[ WARN:0@1424.929] global ./modules/videoio/src/cap_gstreamer.cpp (1405) open OpenCV | GStreamer warning: Cannot query video position: status=0, value=-1, duration=-1\n"
     ]
    }
   ],
   "source": [
    "import cv2\n",
    "from blake3 import blake3\n",
    "\n",
    "upper = int(input(\"upper bound: \"))\n",
    "lower = int(input(\"lower bound: \"))\n",
    "diff = upper - lower\n",
    "\n",
    "camera = cv2.VideoCapture(0)\n",
    "ret, frame = camera.read()\n",
    "cv2.imwrite(\"captured_image.jpg\", frame)\n",
    "camera.release()\n",
    "\n",
    "for i in range(100):\n",
    "    result, image = camera.read()\n",
    "\n",
    "with open('captured_image.jpg', 'rb') as file:\n",
    "    image_bytes = file.read()\n",
    "image_hash = blake3(image_bytes).hexdigest()\n",
    "i = int(image_hash, 16)\n",
    "i = i % diff\n",
    "i = i + lower\n",
    "print(i)"
   ]
  }
 ],
 "metadata": {
  "kernelspec": {
   "display_name": "usr",
   "language": "python",
   "name": "python3"
  },
  "language_info": {
   "codemirror_mode": {
    "name": "ipython",
    "version": 3
   },
   "file_extension": ".py",
   "mimetype": "text/x-python",
   "name": "python",
   "nbconvert_exporter": "python",
   "pygments_lexer": "ipython3",
   "version": "3.12.3"
  }
 },
 "nbformat": 4,
 "nbformat_minor": 2
}
